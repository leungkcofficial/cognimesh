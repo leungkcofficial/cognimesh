{
 "cells": [
  {
   "cell_type": "code",
   "execution_count": 1,
   "metadata": {},
   "outputs": [],
   "source": [
    "from backend.dendron.out_go import process_file\n",
    "from langchain.document_loaders import PDFPlumberLoader\n",
    "\n",
    "# Define the path to the file, and other parameters\n",
    "file_path = \"/mnt/d/ai/cognimesh/output/katoAnticoagulationStrategiesExtracorporeal2021.pdf\"\n",
    "chunk_size = 1000\n",
    "chunk_overlap = 50\n",
    "\n",
    "# Now call the process_file function\n",
    "process_file(path=file_path,\n",
    "             loader_class=PDFPlumberLoader,\n",
    "             chunk_size=chunk_size,\n",
    "             chunk_overlap=chunk_overlap)\n",
    "\n"
   ]
  },
  {
   "cell_type": "code",
   "execution_count": 1,
   "metadata": {},
   "outputs": [
    {
     "name": "stderr",
     "output_type": "stream",
     "text": [
      "2023-11-10 21:03:29,596 - backend.settings.backend_setting - INFO - OpenAI API key is valid.\n",
      "2023-11-10 21:03:29,606 - zotero_connect - INFO - ZoteroConnect plugin has been enabled.\n",
      "2023-11-10 21:03:29,607 - zotero_connect - INFO - Setting up ZoteroConnect plugin.\n",
      "2023-11-10 21:03:29,606 - zotero_connect - INFO - ZoteroConnect plugin has been enabled.\n",
      "2023-11-10 21:03:29,607 - zotero_connect - INFO - Setting up ZoteroConnect plugin.\n",
      "2023-11-10 21:03:29,611 - zotero_connect - INFO - Creating zotero_articles and zotero_books tables.\n",
      "2023-11-10 21:03:29,636 - zotero_connect - INFO - ZoteroConnect plugin has been enabled.\n",
      "2023-11-10 21:03:29,637 - zotero_connect - INFO - ZoteroConnect plugin setup completed successfully.\n",
      "2023-11-10 21:03:29,638 - zotero_connect - INFO - Setting up ZoteroConnect plugin.\n",
      "2023-11-10 21:03:29,646 - zotero_connect - INFO - ZoteroConnect plugin has been enabled.\n",
      "2023-11-10 21:03:29,646 - zotero_connect - INFO - ZoteroConnect plugin setup completed successfully.\n",
      "2023-11-10 21:03:29,647 - zotero_connect - INFO - ZoteroConnect plugin has been disabled.\n",
      "2023-11-10 21:03:29,653 - zotero_connect - INFO - ZoteroConnect plugin tables and resources have been deleted.\n"
     ]
    }
   ],
   "source": [
    "from backend.plugins.zotero_connect import ZoteroConnect\n",
    "from backend.settings.backend_setting import store\n",
    "\n",
    "# Create an instance of the plugin\n",
    "zotero_plugin = ZoteroConnect()\n",
    "\n",
    "# Assuming the 'store' object is your database connection from backend_setting\n",
    "db_connection = store.connection\n",
    "\n",
    "# Enable the plugin (if your system requires this step)\n",
    "zotero_plugin.switch(enable=True)\n",
    "\n",
    "# Set up the plugin, which includes table creation\n",
    "zotero_plugin.setup(db_connection)\n",
    "\n",
    "# You might want to catch any exceptions here and handle them appropriately\n",
    "try:\n",
    "    zotero_plugin.setup(db_connection)\n",
    "except Exception as e:\n",
    "    # Log the exception, alert the user, etc.\n",
    "    print(f\"An error occurred during ZoteroConnect plugin setup: {e}\")\n",
    "\n",
    "try:\n",
    "    # Disable the plugin first\n",
    "    zotero_plugin.switch(enable=False)\n",
    "    \n",
    "    # Then call the delete method to clean up resources\n",
    "    zotero_plugin.delete()\n",
    "\n",
    "except Exception as e:\n",
    "    # Log the exception, alert the user, etc.\n",
    "    print(f\"An error occurred during ZoteroConnect plugin deletion: {e}\")"
   ]
  }
 ],
 "metadata": {
  "kernelspec": {
   "display_name": "gpt2brain",
   "language": "python",
   "name": "python3"
  },
  "language_info": {
   "codemirror_mode": {
    "name": "ipython",
    "version": 3
   },
   "file_extension": ".py",
   "mimetype": "text/x-python",
   "name": "python",
   "nbconvert_exporter": "python",
   "pygments_lexer": "ipython3",
   "version": "3.10.11"
  },
  "orig_nbformat": 4
 },
 "nbformat": 4,
 "nbformat_minor": 2
}
