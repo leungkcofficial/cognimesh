{
 "cells": [
  {
   "cell_type": "code",
   "execution_count": 1,
   "metadata": {},
   "outputs": [
    {
     "name": "stdout",
     "output_type": "stream",
     "text": [
      "File with SHA1 79daea53f994b5d3a2eb7b4406e0527589cdc246 is already processed.\n"
     ]
    }
   ],
   "source": [
    "from backend.dendron.out_go import process_file\n",
    "from langchain.document_loaders import PDFPlumberLoader\n",
    "\n",
    "# Define the path to the file, and other parameters\n",
    "file_path = \"/mnt/d/ai/cognimesh/output/katoAnticoagulationStrategiesExtracorporeal2021.pdf\"\n",
    "chunk_size = 1000\n",
    "chunk_overlap = 50\n",
    "\n",
    "# Now call the process_file function\n",
    "process_file(path=file_path,\n",
    "             loader_class=PDFPlumberLoader,\n",
    "             chunk_size=chunk_size,\n",
    "             chunk_overlap=chunk_overlap)\n",
    "\n"
   ]
  },
  {
   "cell_type": "code",
   "execution_count": 1,
   "metadata": {},
   "outputs": [
    {
     "name": "stderr",
     "output_type": "stream",
     "text": [
      "test_setup_with_no_tables (__main__.TestZoteroConnectPlugin) ... 2023-11-10 08:18:06,880 - zotero_connect - INFO - Setting up ZoteroConnect plugin.\n",
      "2023-11-10 08:18:06,885 - zotero_connect - ERROR - Table structure for zotero_articles or zotero_books is incorrect.\n",
      "2023-11-10 08:18:06,885 - zotero_connect - ERROR - An error occurred during setup: Table structure is incorrect.\n",
      "ERROR\n",
      "\n",
      "======================================================================\n",
      "ERROR: test_setup_with_no_tables (__main__.TestZoteroConnectPlugin)\n",
      "----------------------------------------------------------------------\n",
      "Traceback (most recent call last):\n",
      "  File \"/home/goma/miniconda3/envs/gpt2brain/lib/python3.10/unittest/mock.py\", line 1379, in patched\n",
      "    return func(*newargs, **newkeywargs)\n",
      "  File \"/tmp/ipykernel_29353/2085860152.py\", line 35, in test_setup_with_no_tables\n",
      "    self.plugin.setup(config={})\n",
      "  File \"/mnt/d/ai/cognimesh/backend/plugins/zotero_connect.py\", line 99, in setup\n",
      "    raise e\n",
      "  File \"/mnt/d/ai/cognimesh/backend/plugins/zotero_connect.py\", line 92, in setup\n",
      "    raise Exception(\"Table structure is incorrect.\")\n",
      "Exception: Table structure is incorrect.\n",
      "\n",
      "----------------------------------------------------------------------\n",
      "Ran 1 test in 0.012s\n",
      "\n",
      "FAILED (errors=1)\n"
     ]
    },
    {
     "data": {
      "text/plain": [
       "<unittest.runner.TextTestResult run=1 errors=1 failures=0>"
      ]
     },
     "execution_count": 1,
     "metadata": {},
     "output_type": "execute_result"
    }
   ],
   "source": [
    "import unittest\n",
    "from unittest.mock import patch, MagicMock\n",
    "from backend.plugins.zotero_connect import ZoteroConnect\n",
    "\n",
    "class TestZoteroConnectPlugin(unittest.TestCase):\n",
    "    def setUp(self):\n",
    "        self.plugin = ZoteroConnect()\n",
    "\n",
    "    @patch('backend.plugins.zotero_connect.store')\n",
    "    def test_setup_with_no_tables(self, mock_db_module):\n",
    "        # Set up the mock for the database connection and cursor\n",
    "        mock_connection = MagicMock()\n",
    "        mock_cursor = MagicMock()\n",
    "        \n",
    "        # Simulate the database and cursor behavior\n",
    "        mock_db_module.connect.return_value = mock_connection\n",
    "        mock_connection.cursor.return_value = mock_cursor\n",
    "        \n",
    "        # Simulate that the tables do not exist and mock the result of querying table structure\n",
    "        mock_cursor.fetchall.side_effect = [\n",
    "            [],  # First call returns empty list indicating tables do not exist\n",
    "            [\n",
    "                ('doc_id',), \n",
    "                ('doi',), \n",
    "                ('metadata',)\n",
    "            ],  # Second call simulates the result of \"SELECT column_name FROM information_schema.columns WHERE table_name='zotero_articles'\"\n",
    "            [\n",
    "                ('doc_id',), \n",
    "                ('isbn',), \n",
    "                ('metadata',)\n",
    "            ],  # Third call simulates the result of \"SELECT column_name FROM information_schema.columns WHERE table_name='zotero_books'\"\n",
    "        ]\n",
    "        \n",
    "        # Call the setup method of the plugin\n",
    "        self.plugin.setup(config={})\n",
    "        \n",
    "        # Check that the cursor executed the table creation SQL\n",
    "        create_table_calls = [\n",
    "            unittest.mock.call(\"\"\"\n",
    "                CREATE TABLE IF NOT EXISTS zotero_articles (\n",
    "                    id SERIAL PRIMARY KEY,\n",
    "                    doc_id UUID NOT NULL,\n",
    "                    doi VARCHAR(255),\n",
    "                    metadata JSONB,\n",
    "                    FOREIGN KEY (doc_id) REFERENCES documents(doc_id)\n",
    "                );\n",
    "            \"\"\"),\n",
    "            unittest.mock.call(\"\"\"\n",
    "                CREATE TABLE IF NOT EXISTS zotero_books (\n",
    "                    id SERIAL PRIMARY KEY,\n",
    "                    doc_id UUID NOT NULL,\n",
    "                    isbn VARCHAR(255),\n",
    "                    metadata JSONB,\n",
    "                    FOREIGN KEY (doc_id) REFERENCES documents(doc_id)\n",
    "                );\n",
    "            \"\"\")\n",
    "        ]\n",
    "        mock_cursor.execute.assert_has_calls(create_table_calls, any_order=True)\n",
    "\n",
    "        # Clean up\n",
    "        mock_cursor.close.assert_called()\n",
    "        mock_connection.commit.assert_called()\n",
    "\n",
    "    # More tests...\n",
    "\n",
    "# Instantiate the test suite with all tests from the above test class\n",
    "test_suite = unittest.TestLoader().loadTestsFromTestCase(TestZoteroConnectPlugin)\n",
    "\n",
    "# Run the test suite\n",
    "test_runner = unittest.TextTestRunner(verbosity=2)\n",
    "test_runner.run(test_suite)"
   ]
  },
  {
   "cell_type": "code",
   "execution_count": 1,
   "metadata": {},
   "outputs": [
    {
     "name": "stderr",
     "output_type": "stream",
     "text": [
      "2023-11-10 08:48:23,989 - zotero_connect - INFO - ZoteroConnect plugin has been enabled.\n",
      "2023-11-10 08:48:23,990 - zotero_connect - INFO - Setting up ZoteroConnect plugin.\n",
      "2023-11-10 08:48:23,998 - zotero_connect - INFO - ZoteroConnect plugin has been enabled.\n",
      "2023-11-10 08:48:23,999 - zotero_connect - INFO - ZoteroConnect plugin setup completed successfully.\n",
      "2023-11-10 08:48:23,990 - zotero_connect - INFO - Setting up ZoteroConnect plugin.\n",
      "2023-11-10 08:48:23,998 - zotero_connect - INFO - ZoteroConnect plugin has been enabled.\n",
      "2023-11-10 08:48:23,999 - zotero_connect - INFO - ZoteroConnect plugin setup completed successfully.\n",
      "2023-11-10 08:48:24,001 - zotero_connect - INFO - Setting up ZoteroConnect plugin.\n",
      "2023-11-10 08:48:24,007 - zotero_connect - INFO - ZoteroConnect plugin has been enabled.\n",
      "2023-11-10 08:48:24,008 - zotero_connect - INFO - ZoteroConnect plugin setup completed successfully.\n",
      "2023-11-10 08:48:24,010 - zotero_connect - INFO - ZoteroConnect plugin has been disabled.\n",
      "2023-11-10 08:48:24,025 - zotero_connect - INFO - ZoteroConnect plugin tables and resources have been deleted.\n"
     ]
    }
   ],
   "source": [
    "from backend.plugins.zotero_connect import ZoteroConnect\n",
    "from backend.settings.backend_setting import store\n",
    "\n",
    "# Create an instance of the plugin\n",
    "zotero_plugin = ZoteroConnect()\n",
    "\n",
    "# Assuming the 'store' object is your database connection from backend_setting\n",
    "db_connection = store.connection\n",
    "\n",
    "# Enable the plugin (if your system requires this step)\n",
    "zotero_plugin.switch(enable=True)\n",
    "\n",
    "# Set up the plugin, which includes table creation\n",
    "zotero_plugin.setup(db_connection)\n",
    "\n",
    "# You might want to catch any exceptions here and handle them appropriately\n",
    "try:\n",
    "    zotero_plugin.setup(db_connection)\n",
    "except Exception as e:\n",
    "    # Log the exception, alert the user, etc.\n",
    "    print(f\"An error occurred during ZoteroConnect plugin setup: {e}\")\n",
    "\n",
    "try:\n",
    "    # Disable the plugin first\n",
    "    zotero_plugin.switch(enable=False)\n",
    "    \n",
    "    # Then call the delete method to clean up resources\n",
    "    zotero_plugin.delete()\n",
    "\n",
    "except Exception as e:\n",
    "    # Log the exception, alert the user, etc.\n",
    "    print(f\"An error occurred during ZoteroConnect plugin deletion: {e}\")"
   ]
  }
 ],
 "metadata": {
  "kernelspec": {
   "display_name": "gpt2brain",
   "language": "python",
   "name": "python3"
  },
  "language_info": {
   "codemirror_mode": {
    "name": "ipython",
    "version": 3
   },
   "file_extension": ".py",
   "mimetype": "text/x-python",
   "name": "python",
   "nbconvert_exporter": "python",
   "pygments_lexer": "ipython3",
   "version": "3.10.11"
  },
  "orig_nbformat": 4
 },
 "nbformat": 4,
 "nbformat_minor": 2
}
