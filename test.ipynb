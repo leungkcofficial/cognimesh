{
 "cells": [
  {
   "cell_type": "code",
   "execution_count": 1,
   "metadata": {},
   "outputs": [],
   "source": [
    "import os\n",
    "import tempfile\n",
    "from typing import Any, Optional\n",
    "from uuid import UUID\n",
    "from pydantic import BaseModel\n",
    "from fastapi import UploadFile\n",
    "from backend.axon.in_come import File\n",
    "from backend.settings.backend_setting import PGDocStore\n",
    "\n",
    "import re\n",
    "from dotenv import load_dotenv, find_dotenv\n",
    "from langchain.text_splitter import RecursiveCharacterTextSplitter\n",
    "from file_utils import sanitize_filename, open_file, save_file, compute_sha1_from_content, compute_sha1_from_file\n",
    "# from gpt2brain import llm_core\n",
    "import openai\n",
    "from logger import setup_logger\n",
    "from gpt2brain import OpenAIBrain\n",
    "\n",
    "from langchain.document_loaders import PDFPlumberLoader, PyPDFLoader\n",
    "from langchain.text_splitter import TokenTextSplitter\n",
    "from langchain.embeddings import OpenAIEmbeddings\n",
    "from langchain.embeddings.openai import OpenAIEmbeddings\n",
    "from langchain.text_splitter import CharacterTextSplitter\n",
    "from langchain.vectorstores.pgvector import PGVector\n",
    "from langchain.vectorstores.pgembedding import PGEmbedding\n",
    "from langchain.document_loaders import TextLoader\n",
    "from langchain.docstore.document import Document\n",
    "\n",
    "\n",
    "# Create a logger for this module\n",
    "logger = setup_logger(__name__)\n",
    "\n",
    "# Create a OpenAIBrain instance\n",
    "brain = OpenAIBrain()\n",
    "\n"
   ]
  },
  {
   "cell_type": "code",
   "execution_count": 1,
   "metadata": {},
   "outputs": [],
   "source": [
    "from backend.axon.in_come import File\n",
    "from backend.settings.backend_setting import PGDocStore\n",
    "from backend.neuron.neuron import Memory\n",
    "\n",
    "from langchain.document_loaders import PDFPlumberLoader\n",
    "file = File()    \n",
    "file.import_path(filepath=\"/mnt/d/ai/cognimesh/output/katoAnticoagulationStrategiesExtracorporeal2021.pdf\",\n",
    "                 chunk_size=1000,\n",
    "                 chunk_overlap=50\n",
    "                 )\n",
    "neuron = Memory()\n",
    "embed = neuron.create_vector(file = file, \n",
    "                             loader_class=PDFPlumberLoader)\n",
    "\n",
    "store = PGDocStore()\n",
    "doc_id = store.add_document(file=file)\n",
    "vector_ids = store.add_vectors(doc_id, embed=embed)\n",
    "store.update_document_vectors(doc_id, vector_ids)\n",
    "store.close_connection()"
   ]
  },
  {
   "cell_type": "code",
   "execution_count": 3,
   "metadata": {},
   "outputs": [
    {
     "data": {
      "text/plain": [
       "UUID('79daea53-f994-b5d3-a2eb-7b4406e05275')"
      ]
     },
     "execution_count": 3,
     "metadata": {},
     "output_type": "execute_result"
    }
   ],
   "source": [
    "file.vectors_ids"
   ]
  },
  {
   "cell_type": "code",
   "execution_count": null,
   "metadata": {},
   "outputs": [],
   "source": [
    "load_dotenv(find_dotenv())\n",
    "host= os.getenv('PG_HOST')\n",
    "port= os.getenv('PG_PORT')\n",
    "user= os.getenv('PG_USER')\n",
    "password= os.getenv('PG_PASS')\n",
    "dbname= 'cognimesh'\n",
    "\n",
    "loader = PDFPlumberLoader(\"/mnt/d/ai/cognimesh/output/katoAnticoagulationStrategiesExtracorporeal2021.pdf\")\n",
    "text_splitter = RecursiveCharacterTextSplitter.from_tiktoken_encoder(chunk_size=4000, chunk_overlap=200)\n",
    "pages = loader.load()\n",
    "docs = text_splitter.split_documents(pages)\n",
    "embeddings = OpenAIEmbeddings()\n",
    "CONNECTION_STRING = f\"postgresql+psycopg2://{user}:{password}@{host}:{port}/{dbname}?client_encoding=utf8\"\n",
    "COLLECTION_NAME = \"documents\"\n",
    "\n",
    "store = PGVector(\n",
    "    collection_name=COLLECTION_NAME,\n",
    "    connection_string=CONNECTION_STRING,\n",
    "    # table_name=\"vectors\",\n",
    "    embedding_function=embeddings,\n",
    ")\n",
    "\n",
    "store.add_documents(docs)\n",
    "\n",
    "# db = PGEmbedding.from_documents(\n",
    "#     embedding=embeddings,\n",
    "#     documents=docs,\n",
    "#     collection_name=COLLECTION_NAME,\n",
    "#     connection_string=CONNECTION_STRING,\n",
    "#     pre_delete_collection=False,\n",
    "# )\n"
   ]
  }
 ],
 "metadata": {
  "kernelspec": {
   "display_name": "gpt2brain",
   "language": "python",
   "name": "python3"
  },
  "language_info": {
   "codemirror_mode": {
    "name": "ipython",
    "version": 3
   },
   "file_extension": ".py",
   "mimetype": "text/x-python",
   "name": "python",
   "nbconvert_exporter": "python",
   "pygments_lexer": "ipython3",
   "version": "3.10.11"
  },
  "orig_nbformat": 4
 },
 "nbformat": 4,
 "nbformat_minor": 2
}
