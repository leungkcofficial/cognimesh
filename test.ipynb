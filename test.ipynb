{
 "cells": [
  {
   "cell_type": "code",
   "execution_count": 1,
   "metadata": {},
   "outputs": [],
   "source": [
    "from backend.dendron.out_go import process_file\n",
    "from langchain.document_loaders import PDFPlumberLoader\n",
    "\n",
    "# Define the path to the file, and other parameters\n",
    "file_path = \"/mnt/d/ai/cognimesh/output/katoAnticoagulationStrategiesExtracorporeal2021.pdf\"\n",
    "chunk_size = 1000\n",
    "chunk_overlap = 50\n",
    "\n",
    "# Now call the process_file function\n",
    "process_file(path=file_path,\n",
    "             loader_class=PDFPlumberLoader,\n",
    "             chunk_size=chunk_size,\n",
    "             chunk_overlap=chunk_overlap)\n",
    "\n"
   ]
  }
 ],
 "metadata": {
  "kernelspec": {
   "display_name": "gpt2brain",
   "language": "python",
   "name": "python3"
  },
  "language_info": {
   "codemirror_mode": {
    "name": "ipython",
    "version": 3
   },
   "file_extension": ".py",
   "mimetype": "text/x-python",
   "name": "python",
   "nbconvert_exporter": "python",
   "pygments_lexer": "ipython3",
   "version": "3.10.11"
  },
  "orig_nbformat": 4
 },
 "nbformat": 4,
 "nbformat_minor": 2
}
