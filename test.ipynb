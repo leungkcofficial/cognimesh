{
 "cells": [
  {
   "cell_type": "code",
   "execution_count": 15,
   "metadata": {},
   "outputs": [],
   "source": [
    "from backend.dendron.out_go import process_file\n",
    "from langchain.document_loaders import PDFPlumberLoader\n",
    "\n",
    "# Define the path to the file, and other parameters\n",
    "file_path = \"/mnt/d/ai/cognimesh/output/burnettFutureInpatientAnticoagulation2013.pdf\"\n",
    "chunk_size = 1000\n",
    "chunk_overlap = 50\n",
    "\n",
    "# Now call the process_file function\n",
    "process_file(path=file_path,\n",
    "             loader_class=PDFPlumberLoader,\n",
    "             chunk_size=chunk_size,\n",
    "             chunk_overlap=chunk_overlap)\n",
    "\n"
   ]
  },
  {
   "cell_type": "code",
   "execution_count": 14,
   "metadata": {},
   "outputs": [
    {
     "name": "stdout",
     "output_type": "stream",
     "text": [
      "[0.69666708 0.69238096 0.68911817 0.71045293 0.75718281 0.76636037\n",
      " 0.74873402 0.71530039 0.72104764 0.72479702 0.70824501 0.71557496\n",
      " 0.69513685 0.73144496 0.72377698 0.69539901 0.68766235 0.71316952\n",
      " 0.72633457 0.77376278 0.7212859  0.69873096 0.7244534  0.74888063\n",
      " 0.72016559 0.70815691 0.74420923]\n"
     ]
    }
   ],
   "source": [
    "import uuid\n",
    "from backend.neuron.cognition import Cognition\n",
    "from backend.neuron.memory import Memory\n",
    "from backend.neuron.intellect import Intellect\n",
    "import numpy as np\n",
    "from langchain.document_loaders import PDFPlumberLoader\n",
    "\n",
    "# pg_doc_store = store # Assuming 'store' is your global Store instance\n",
    "# Your provided doc_id as a UUID object\n",
    "doc_id = uuid.UUID(\"dbc8974f-2f25-4026-845f-6c3db4997c31\")\n",
    "memory = Memory()\n",
    "cognition = Cognition()\n",
    "doc_embeddings = memory.retrieve_embeddings(doc_id)\n",
    "query = 'From the content, please show me the all the researchers who contributred this article.'\n",
    "query_embedding = cognition.embed_text(query)\n",
    "\n",
    "intellect_instance = Intellect()\n",
    "try:\n",
    "    similarities = intellect_instance.calculate_similarity(doc_embeddings, query_embedding)\n",
    "    findings = intellect_instance.present_findings(similarities)\n",
    "    print(similarities)\n",
    "except Exception as e:\n",
    "    logger.error(f\"An error occurred in similarity search: {e}\")\n",
    "    \n",
    "chunk_index = np.argmax(similarities)\n",
    "chunk = memory.retrieve_chunk(doc_id, chunk_index, PDFPlumberLoader)"
   ]
  },
  {
   "cell_type": "code",
   "execution_count": 13,
   "metadata": {},
   "outputs": [
    {
     "data": {
      "text/plain": [
       "Document(page_content='Creative\\ncomprehensive review. Netherlands J Crit Care. 2018;26:6-13. Surg. 2018;105(5):1316-1321.\\nCommons\\nLicense', metadata={'source': '/tmp/tmp9i91ndc2katoAnticoagulationStrategiesExtracorporeal2021.pdf', 'file_path': '/tmp/tmp9i91ndc2katoAnticoagulationStrategiesExtracorporeal2021.pdf', 'page': 10, 'total_pages': 13, 'Creator': 'Adobe InDesign CC 2015 (Windows)', 'ModDate': \"D:20230802222400-07'00'\", 'CreationDate': \"D:20201209172447+05'30'\", 'Producer': 'Adobe PDF Library 15.0; modified using iText 4.2.0 by 1T3XT', 'Subject': 'European J of Haematology 2021.106:19-31', 'WPS-PROCLEVEL': '3', 'WPS-JOURNALDOI': '10.1111/(ISSN)1600-0609', 'Title': 'Anticoagulation strategies in extracorporeal circulatory devices in adult populations', 'WPS-ARTICLEDOI': '10.1111/ejh.13520'})"
      ]
     },
     "execution_count": 13,
     "metadata": {},
     "output_type": "execute_result"
    }
   ],
   "source": [
    "chunk"
   ]
  },
  {
   "cell_type": "code",
   "execution_count": 2,
   "metadata": {},
   "outputs": [
    {
     "name": "stderr",
     "output_type": "stream",
     "text": [
      "2023-11-10 21:04:47,435 - zotero_connect - INFO - ZoteroConnect plugin has been enabled.\n",
      "2023-11-10 21:04:47,438 - zotero_connect - INFO - Setting up ZoteroConnect plugin.\n",
      "2023-11-10 21:04:47,442 - zotero_connect - INFO - Creating zotero_articles and zotero_books tables.\n",
      "2023-11-10 21:04:47,438 - zotero_connect - INFO - Setting up ZoteroConnect plugin.\n",
      "2023-11-10 21:04:47,442 - zotero_connect - INFO - Creating zotero_articles and zotero_books tables.\n",
      "2023-11-10 21:04:47,467 - zotero_connect - INFO - ZoteroConnect plugin has been enabled.\n",
      "2023-11-10 21:04:47,467 - zotero_connect - INFO - ZoteroConnect plugin setup completed successfully.\n",
      "2023-11-10 21:04:47,468 - zotero_connect - INFO - Setting up ZoteroConnect plugin.\n",
      "2023-11-10 21:04:47,475 - zotero_connect - INFO - ZoteroConnect plugin has been enabled.\n",
      "2023-11-10 21:04:47,476 - zotero_connect - INFO - ZoteroConnect plugin setup completed successfully.\n",
      "2023-11-10 21:04:47,477 - zotero_connect - INFO - ZoteroConnect plugin has been disabled.\n",
      "2023-11-10 21:04:47,481 - zotero_connect - INFO - ZoteroConnect plugin tables and resources have been deleted.\n"
     ]
    }
   ],
   "source": [
    "from backend.plugins.zotero_connect import ZoteroConnect\n",
    "# from ..settings.storage import store\n",
    "from backend.settings.storage import store\n",
    "\n",
    "# Create an instance of the plugin\n",
    "zotero_plugin = ZoteroConnect()\n",
    "\n",
    "# Assuming the 'store' object is your database connection from backend_setting\n",
    "db_connection = store.connection\n",
    "\n",
    "# Enable the plugin (if your system requires this step)\n",
    "zotero_plugin.switch(enable=True)\n",
    "\n",
    "# Set up the plugin, which includes table creation\n",
    "zotero_plugin.setup(db_connection)\n",
    "\n",
    "# You might want to catch any exceptions here and handle them appropriately\n",
    "try:\n",
    "    zotero_plugin.setup(db_connection)\n",
    "except Exception as e:\n",
    "    # Log the exception, alert the user, etc.\n",
    "    print(f\"An error occurred during ZoteroConnect plugin setup: {e}\")\n",
    "\n",
    "try:\n",
    "    # Disable the plugin first\n",
    "    zotero_plugin.switch(enable=False)\n",
    "    \n",
    "    # Then call the delete method to clean up resources\n",
    "    zotero_plugin.delete()\n",
    "\n",
    "except Exception as e:\n",
    "    # Log the exception, alert the user, etc.\n",
    "    print(f\"An error occurred during ZoteroConnect plugin deletion: {e}\")"
   ]
  }
 ],
 "metadata": {
  "kernelspec": {
   "display_name": "gpt2brain",
   "language": "python",
   "name": "python3"
  },
  "language_info": {
   "codemirror_mode": {
    "name": "ipython",
    "version": 3
   },
   "file_extension": ".py",
   "mimetype": "text/x-python",
   "name": "python",
   "nbconvert_exporter": "python",
   "pygments_lexer": "ipython3",
   "version": "3.10.11"
  },
  "orig_nbformat": 4
 },
 "nbformat": 4,
 "nbformat_minor": 2
}
